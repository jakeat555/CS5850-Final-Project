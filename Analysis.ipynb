{
 "cells": [
  {
   "cell_type": "code",
   "execution_count": 1,
   "id": "20ff7969-881e-43fc-979d-460bc41834fd",
   "metadata": {},
   "outputs": [],
   "source": [
    "import pandas as pd\n",
    "import matplotlib.pyplot as plt\n",
    "import seaborn as sns"
   ]
  },
  {
   "cell_type": "markdown",
   "id": "fe23aa14-d288-4b99-ae51-f1d13ab70754",
   "metadata": {},
   "source": [
    "### Read in cleaned data"
   ]
  },
  {
   "cell_type": "code",
   "execution_count": 2,
   "id": "cc79bcd0-48fb-4854-b5df-502d8bdab814",
   "metadata": {},
   "outputs": [],
   "source": [
    "data = pd.read_csv('twitterData')"
   ]
  },
  {
   "cell_type": "markdown",
   "id": "62326282-ef59-4d05-8929-a157c08fd0d2",
   "metadata": {},
   "source": [
    "### Split posts by if they have a video/photo or not"
   ]
  }
 ],
 "metadata": {
  "kernelspec": {
   "display_name": "Python 3 (ipykernel)",
   "language": "python",
   "name": "python3"
  },
  "language_info": {
   "codemirror_mode": {
    "name": "ipython",
    "version": 3
   },
   "file_extension": ".py",
   "mimetype": "text/x-python",
   "name": "python",
   "nbconvert_exporter": "python",
   "pygments_lexer": "ipython3",
   "version": "3.9.13"
  }
 },
 "nbformat": 4,
 "nbformat_minor": 5
}
