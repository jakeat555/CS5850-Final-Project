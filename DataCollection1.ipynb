{
 "cells": [
  {
   "cell_type": "markdown",
   "id": "5dd6ef89-a2a6-42b2-a7b1-3db087da51ed",
   "metadata": {},
   "source": [
    "# Socially Generated Positive Reinforcement on Social Media"
   ]
  },
  {
   "cell_type": "markdown",
   "id": "565e51cc-5805-46d8-ba96-cd467f9c0698",
   "metadata": {},
   "source": [
    "## Outline:\n",
    "    1. Get large sample of random users\n",
    "    1. Track thier posting habits for a unit of time () https://docs.tweepy.org/en/stable/api.html#tweepy.API.list_timeline\n",
    "    1. Describe relationship between positive reinforcemnt and time till next tweet\n",
    "    1. Model expected times to tweet based off of this relationship"
   ]
  },
  {
   "cell_type": "code",
   "execution_count": 11,
   "id": "128be4fc-e454-40d5-8a4a-d4fd948b5209",
   "metadata": {},
   "outputs": [],
   "source": [
    "import tweepy\n",
    "from tweepy import OAuthHandler\n",
    "from tweepy import API\n",
    "from tweepy import Stream\n",
    "import time\n",
    "import numpy as np\n",
    "import pandas as pd\n",
    "import json\n",
    "\n",
    "C_KEY = 'pUErSwQPMaDQA6lMWLwGhWebK'\n",
    "C_SECRET = 's021bBt6gbitTD8IjfRezYJv9TATl9UTixWqajJa0jxZCxm3cm'\n",
    "A_TOKEN_KEY = '3193753885-kQl38iG2TKYr5XlOf26ORicVz4b9Wth1kOBGMh8'\n",
    "A_TOKEN_SECRET = 'UCgLxtao7EMSAZPzOpadoSdlQg1Y5Unf0nXxR2QNWYstK'\n",
    "\n",
    "auth = tweepy.OAuthHandler(C_KEY, C_SECRET)\n",
    "auth.set_access_token(A_TOKEN_KEY, A_TOKEN_SECRET)\n",
    "api = tweepy.API(auth)\n"
   ]
  },
  {
   "cell_type": "markdown",
   "id": "017f6f75-448c-48be-ac01-2d79efe3d803",
   "metadata": {},
   "source": [
    "### Get large sample of random users"
   ]
  },
  {
   "cell_type": "code",
   "execution_count": 13,
   "id": "850bb8ee-9330-416f-a305-6b52e5b5d089",
   "metadata": {},
   "outputs": [],
   "source": [
    "# Initialze Variables\n",
    "query = 'a -filter:retweets lang:eng'\n",
    "posts = []\n",
    "numOfUsers = 300\n",
    "# Create json file\n",
    "with open('recentTweets.json', 'w') as fp:\n",
    "    # Fetch 5000 tweets and put them in both the json and dataframe \n",
    "    for tweet in tweepy.Cursor(api.search_tweets, query, count=100).items(numOfUsers):\n",
    "        posts.append(tweet._json)\n",
    "        json.dump(tweet._json, fp)\n",
    "        fp.write('\\n')"
   ]
  },
  {
   "cell_type": "markdown",
   "id": "bf1416bf-709f-4ba0-9fcf-b092ac4a31b0",
   "metadata": {},
   "source": [
    "### Extract screen name ids for each person who tweeted"
   ]
  },
  {
   "cell_type": "code",
   "execution_count": 14,
   "id": "9b5ed657-faa9-47a2-b2bf-b911b525b149",
   "metadata": {},
   "outputs": [],
   "source": [
    "posts = pd.DataFrame(posts)\n",
    "display()\n",
    "ids = []\n",
    "for tweet in range(len(posts)):\n",
    "    ids.append(posts.iloc[tweet].user['id'])"
   ]
  },
  {
   "cell_type": "code",
   "execution_count": 15,
   "id": "837a06dc-dd3d-4c6c-b4f3-71ea1df0bee8",
   "metadata": {},
   "outputs": [
    {
     "name": "stdout",
     "output_type": "stream",
     "text": [
      "303\n"
     ]
    }
   ],
   "source": [
    "print(len(ids))"
   ]
  },
  {
   "cell_type": "markdown",
   "id": "6ff52780-f2cc-4225-b6cd-108fa857ce8a",
   "metadata": {},
   "source": [
    "### For each user, track the last few tweets"
   ]
  },
  {
   "cell_type": "code",
   "execution_count": 16,
   "id": "4f44dbbd-ec61-4466-abe8-b3052944edcd",
   "metadata": {},
   "outputs": [],
   "source": [
    "allPosts = []\n",
    "numOfTweets = 50\n",
    "with open('oldTweetsOfSample.json', 'w') as fp:\n",
    "    for i in range(len(ids)):\n",
    "        for tweet in api.user_timeline(user_id = ids[i],count=numOfTweets , include_rts = False):\n",
    "            allPosts.append(tweet._json)\n",
    "            json.dump(tweet._json, fp)\n",
    "            fp.write('\\n')"
   ]
  },
  {
   "cell_type": "markdown",
   "id": "feb2e285-9d74-448b-942e-1089659a6f37",
   "metadata": {},
   "source": [
    "### Extract useful data\n",
    "    1. Num of interactions: likes, retweeets, quotes\n",
    "    2. Time between posts"
   ]
  }
 ],
 "metadata": {
  "kernelspec": {
   "display_name": "Python 3 (ipykernel)",
   "language": "python",
   "name": "python3"
  },
  "language_info": {
   "codemirror_mode": {
    "name": "ipython",
    "version": 3
   },
   "file_extension": ".py",
   "mimetype": "text/x-python",
   "name": "python",
   "nbconvert_exporter": "python",
   "pygments_lexer": "ipython3",
   "version": "3.9.13"
  }
 },
 "nbformat": 4,
 "nbformat_minor": 5
}
