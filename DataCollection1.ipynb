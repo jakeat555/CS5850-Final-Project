{
 "cells": [
  {
   "cell_type": "markdown",
   "id": "f1a83fa8-0c6b-4b4e-a0d8-3a2603fd6d05",
   "metadata": {},
   "source": [
    "### Import needed libraries"
   ]
  },
  {
   "cell_type": "code",
   "execution_count": 11,
   "id": "55fd7244-18f0-48a2-ab12-a7ca24402815",
   "metadata": {},
   "outputs": [],
   "source": [
    "import tweepy\n",
    "from tweepy import OAuthHandler\n",
    "from tweepy import API\n",
    "from tweepy import Stream\n",
    "import time\n",
    "import numpy as np\n",
    "import pandas as pd\n",
    "import json"
   ]
  },
  {
   "cell_type": "markdown",
   "id": "298cda13-d9d0-48a7-a4b2-b098e41d1577",
   "metadata": {},
   "source": [
    "### Initialize Twitter API"
   ]
  },
  {
   "cell_type": "code",
   "execution_count": 11,
   "id": "4eb4c627-1eff-4049-ae90-cdb30460155f",
   "metadata": {},
   "outputs": [],
   "source": [
    "C_KEY = 'pUErSwQPMaDQA6lMWLwGhWebK'\n",
    "C_SECRET = 's021bBt6gbitTD8IjfRezYJv9TATl9UTixWqajJa0jxZCxm3cm'\n",
    "A_TOKEN_KEY = '3193753885-kQl38iG2TKYr5XlOf26ORicVz4b9Wth1kOBGMh8'\n",
    "A_TOKEN_SECRET = 'UCgLxtao7EMSAZPzOpadoSdlQg1Y5Unf0nXxR2QNWYstK'\n",
    "\n",
    "auth = tweepy.OAuthHandler(C_KEY, C_SECRET)\n",
    "auth.set_access_token(A_TOKEN_KEY, A_TOKEN_SECRET)\n",
    "api = tweepy.API(auth)"
   ]
  },
  {
   "cell_type": "markdown",
   "id": "017f6f75-448c-48be-ac01-2d79efe3d803",
   "metadata": {},
   "source": [
    "### Get large sample of random users"
   ]
  },
  {
   "cell_type": "code",
   "execution_count": 13,
   "id": "850bb8ee-9330-416f-a305-6b52e5b5d089",
   "metadata": {},
   "outputs": [],
   "source": [
    "# Initialze Variables\n",
    "query = 'a -filter:retweets lang:eng'\n",
    "posts = []\n",
    "numOfUsers = 300\n",
    "# Create json file\n",
    "with open('recentTweets.json', 'w') as fp:\n",
    "    # Fetch 5000 tweets and put them in both the json and dataframe \n",
    "    for tweet in tweepy.Cursor(api.search_tweets, query, count=100).items(numOfUsers):\n",
    "        posts.append(tweet._json)\n",
    "        json.dump(tweet._json, fp)\n",
    "        fp.write('\\n')"
   ]
  },
  {
   "cell_type": "markdown",
   "id": "bf1416bf-709f-4ba0-9fcf-b092ac4a31b0",
   "metadata": {},
   "source": [
    "### Extract screen name ids for each person who tweeted"
   ]
  },
  {
   "cell_type": "code",
   "execution_count": 14,
   "id": "9b5ed657-faa9-47a2-b2bf-b911b525b149",
   "metadata": {},
   "outputs": [],
   "source": [
    "posts = pd.DataFrame(posts)\n",
    "display()\n",
    "ids = []\n",
    "for tweet in range(len(posts)):\n",
    "    ids.append(posts.iloc[tweet].user['id'])"
   ]
  },
  {
   "cell_type": "code",
   "execution_count": 15,
   "id": "837a06dc-dd3d-4c6c-b4f3-71ea1df0bee8",
   "metadata": {},
   "outputs": [
    {
     "name": "stdout",
     "output_type": "stream",
     "text": [
      "303\n"
     ]
    }
   ],
   "source": [
    "print(len(ids))"
   ]
  },
  {
   "cell_type": "markdown",
   "id": "6ff52780-f2cc-4225-b6cd-108fa857ce8a",
   "metadata": {},
   "source": [
    "### For each user, save the last few tweets"
   ]
  },
  {
   "cell_type": "code",
   "execution_count": 16,
   "id": "4f44dbbd-ec61-4466-abe8-b3052944edcd",
   "metadata": {},
   "outputs": [],
   "source": [
    "allPosts = []\n",
    "numOfTweets = 50\n",
    "with open('oldTweetsOfSample.json', 'w') as fp:\n",
    "    for i in range(len(ids)):\n",
    "        for tweet in api.user_timeline(user_id = ids[i],count=numOfTweets , include_rts = False):\n",
    "            allPosts.append(tweet._json)\n",
    "            json.dump(tweet._json, fp)\n",
    "            fp.write('\\n')"
   ]
  }
 ],
 "metadata": {
  "kernelspec": {
   "display_name": "Python 3 (ipykernel)",
   "language": "python",
   "name": "python3"
  },
  "language_info": {
   "codemirror_mode": {
    "name": "ipython",
    "version": 3
   },
   "file_extension": ".py",
   "mimetype": "text/x-python",
   "name": "python",
   "nbconvert_exporter": "python",
   "pygments_lexer": "ipython3",
   "version": "3.9.13"
  }
 },
 "nbformat": 4,
 "nbformat_minor": 5
}
